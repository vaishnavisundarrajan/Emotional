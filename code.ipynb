{
  "nbformat": 4,
  "nbformat_minor": 0,
  "metadata": {
    "colab": {
      "provenance": [],
      "authorship_tag": "ABX9TyP0Ay77VPuZ7/yXQ2NFS8LT",
      "include_colab_link": true
    },
    "kernelspec": {
      "name": "python3",
      "display_name": "Python 3"
    },
    "language_info": {
      "name": "python"
    }
  },
  "cells": [
    {
      "cell_type": "markdown",
      "metadata": {
        "id": "view-in-github",
        "colab_type": "text"
      },
      "source": [
        "<a href=\"https://colab.research.google.com/github/vaishnavisundarrajan/Emotional/blob/main/code.ipynb\" target=\"_parent\"><img src=\"https://colab.research.google.com/assets/colab-badge.svg\" alt=\"Open In Colab\"/></a>"
      ]
    },
    {
      "cell_type": "code",
      "execution_count": 1,
      "metadata": {
        "colab": {
          "base_uri": "https://localhost:8080/"
        },
        "id": "9Wgaj1Emvw-F",
        "outputId": "3b35f79d-d955-45b5-900f-16a97e664105"
      },
      "outputs": [
        {
          "output_type": "stream",
          "name": "stdout",
          "text": [
            "Text: I absolutely love this!\n",
            "Sentiment: positive\n",
            "\n",
            "Text: This is terrible and I hate it.\n",
            "Sentiment: negative\n",
            "\n",
            "Text: It's okay, nothing special.\n",
            "Sentiment: positive\n",
            "\n",
            "Text: The movie was fantastic!\n",
            "Sentiment: positive\n",
            "\n",
            "Text: Worst experience ever.\n",
            "Sentiment: negative\n",
            "\n",
            "Text: Not bad, could be better.\n",
            "Sentiment: positive\n",
            "\n"
          ]
        }
      ],
      "source": [
        "from textblob import TextBlob\n",
        "\n",
        "# Function to get sentiment\n",
        "def analyze_sentiment(text):\n",
        "    blob = TextBlob(text)\n",
        "    polarity = blob.sentiment.polarity\n",
        "\n",
        "    if polarity > 0:\n",
        "        sentiment = \"positive\"\n",
        "    elif polarity < 0:\n",
        "        sentiment = \"negative\"\n",
        "    else:\n",
        "        sentiment = \"neutral\"\n",
        "\n",
        "    return sentiment\n",
        "\n",
        "# Examples\n",
        "texts = [\n",
        "    \"I absolutely love this!\",\n",
        "    \"This is terrible and I hate it.\",\n",
        "    \"It's okay, nothing special.\",\n",
        "    \"The movie was fantastic!\",\n",
        "    \"Worst experience ever.\",\n",
        "    \"Not bad, could be better.\"\n",
        "]\n",
        "\n",
        "# Analyze each\n",
        "for text in texts:\n",
        "    sentiment = analyze_sentiment(text)\n",
        "    print(f\"Text: {text}\\nSentiment: {sentiment}\\n\")\n"
      ]
    },
    {
      "cell_type": "code",
      "source": [],
      "metadata": {
        "id": "urK3wYz0v0gH"
      },
      "execution_count": null,
      "outputs": []
    }
  ]
}